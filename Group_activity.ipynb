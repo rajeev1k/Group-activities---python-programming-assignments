{
 "cells": [
  {
   "cell_type": "markdown",
   "metadata": {
    "id": "4z_Z-K1tlrS7"
   },
   "source": [
    "## 1. Complete the following code to find the area of an equilateral triangle. Output should be as displayed"
   ]
  },
  {
   "cell_type": "code",
   "execution_count": 3,
   "metadata": {
    "id": "rP2qFD_SlrS_"
   },
   "outputs": [
    {
     "name": "stdout",
     "output_type": "stream",
     "text": [
      "Enter the side of the equilateral triangle: 12\n",
      "62.35382907247958\n"
     ]
    }
   ],
   "source": [
    "import math\n",
    "side = float(input(\"Enter the side of the equilateral triangle: \"))\n",
    "area = ((math.sqrt(3))/4)*pow(side,2)\n",
    "print(area)\n",
    "\n"
   ]
  },
  {
   "cell_type": "markdown",
   "metadata": {
    "id": "TjVKjIfclrTB"
   },
   "source": [
    "## 2. Write a program to count the number of each characters in a string"
   ]
  },
  {
   "cell_type": "code",
   "execution_count": 46,
   "metadata": {
    "id": "JY5seVUQlrTC"
   },
   "outputs": [
    {
     "ename": "SyntaxError",
     "evalue": "invalid syntax (<ipython-input-46-f7ab735da4e7>, line 3)",
     "output_type": "error",
     "traceback": [
      "\u001b[1;36m  File \u001b[1;32m\"<ipython-input-46-f7ab735da4e7>\"\u001b[1;36m, line \u001b[1;32m3\u001b[0m\n\u001b[1;33m    for i in :string_1\u001b[0m\n\u001b[1;37m             ^\u001b[0m\n\u001b[1;31mSyntaxError\u001b[0m\u001b[1;31m:\u001b[0m invalid syntax\n"
     ]
    }
   ],
   "source": [
    "string_1 = \"Hellow world\"\n",
    "all_freq = {}\n",
    "for i in :string_1\n",
    "    if i in all_freq:\n",
    "        all_freq[i] += 1\n",
    "    else:\n",
    "        all_freq[i] = 1\n",
    "print (\"Count of all characters in Hellow world is :\\n \"\n",
    "                                        +  str(all_freq))\n"
   ]
  },
  {
   "cell_type": "markdown",
   "metadata": {
    "id": "l3LCULfklrTD"
   },
   "source": [
    "## 3.Write a program to find the area and perimeter of a rectangle using functions"
   ]
  },
  {
   "cell_type": "code",
   "execution_count": 47,
   "metadata": {
    "id": "8haQD8edlrTD"
   },
   "outputs": [
    {
     "name": "stdout",
     "output_type": "stream",
     "text": [
      "Enter length of the rectangle: 12\n",
      "Enter breadth(width) of the rectangle: 13\n",
      "Area of the rectangle:  156.0\n",
      "Perimeter of the rectangle:  50.0\n"
     ]
    }
   ],
   "source": [
    "l=float(input(\"Enter length of the rectangle: \"))\n",
    "b=float(input(\"Enter breadth(width) of the rectangle: \"))\n",
    "\n",
    "def area(a,b):\n",
    "    A=a*b\n",
    "    return A\n",
    "\n",
    "def perimeter(a,b):\n",
    "    P=(a+b)*2\n",
    "    return P\n",
    "\n",
    "print(\"Area of the rectangle: \", area(l,b))\n",
    "print(\"Perimeter of the rectangle: \", perimeter(l,b))"
   ]
  },
  {
   "cell_type": "markdown",
   "metadata": {
    "id": "JHK4ZdsflrTE"
   },
   "source": [
    "## 4. Write a program to print the fibonacci series till a specified number"
   ]
  },
  {
   "cell_type": "code",
   "execution_count": 45,
   "metadata": {
    "id": "LyBEj-4SlrTE"
   },
   "outputs": [
    {
     "name": "stdout",
     "output_type": "stream",
     "text": [
      "Enter the upto which fibonacci series to show: 8\n",
      "Fibonacci series: \n",
      "1 2 3 5 8 13 21 34 "
     ]
    }
   ],
   "source": [
    "upto = int(input (\"Enter the upto which fibonacci series to show: \"))\n",
    "if (upto==0) or (upto<0):\n",
    "    print(\"Enter a non zero positive number\")\n",
    "else:\n",
    "    num1=1\n",
    "    num2=2\n",
    "    count=0\n",
    "    if upto==1:\n",
    "        print(\"Fibonacci series: \",num1)\n",
    "    else:\n",
    "        print(\"Fibonacci series: \")\n",
    "        while (count<upto):\n",
    "            print(num1,end=\" \")\n",
    "            num3=num1+num2\n",
    "            num1=num2\n",
    "            num2=num3\n",
    "            count+=1\n",
    "            "
   ]
  },
  {
   "cell_type": "markdown",
   "metadata": {
    "id": "u4uBUcQKlrTE"
   },
   "source": [
    "## 5. Complete the following code to find the minimum of 3 number using cinditional statements. Output should be as displayed"
   ]
  },
  {
   "cell_type": "code",
   "execution_count": 39,
   "metadata": {
    "id": "XdZwrZjIlrTF"
   },
   "outputs": [
    {
     "name": "stdout",
     "output_type": "stream",
     "text": [
      "Enter three numbers followed by  : 1 2 3\n",
      "First number : 1\n",
      "Second number : 2\n",
      "Third number : 3\n",
      "1  is smallest\n"
     ]
    }
   ],
   "source": [
    "a,b,c = input(\"Enter three numbers followed by  : \").split()\n",
    "print(\"First number :\",a)\n",
    "print(\"Second number :\",b)\n",
    "print(\"Third number :\",c)\n",
    "if (a<b and a<c):\n",
    "    print(a,\" is smallest\")\n",
    "elif (b<a and b<c):\n",
    "    print(b,\" is smallest\")\n",
    "elif (c<a and c<b):\n",
    "    print(c,\" is smallest\")\n",
    "else:\n",
    " print(\"Entered numbers are equal!!!\")\n"
   ]
  },
  {
   "cell_type": "markdown",
   "metadata": {
    "id": "aR_CnToWlrTG"
   },
   "source": [
    "## 6. Write a program to print star pyramind. The number of rows should be taken as input from the user"
   ]
  },
  {
   "cell_type": "code",
   "execution_count": null,
   "metadata": {
    "id": "M37A-buplrTG"
   },
   "outputs": [],
   "source": [
    "#can't figure out the  logic\n",
    "#will do it soon"
   ]
  },
  {
   "cell_type": "markdown",
   "metadata": {
    "id": "tlY6aFWBlrTH"
   },
   "source": [
    "## 7. Complete the following code to convert hour into seconds. Output should be as displayed"
   ]
  },
  {
   "cell_type": "code",
   "execution_count": 33,
   "metadata": {
    "id": "YOZQFk7FlrTH"
   },
   "outputs": [
    {
     "name": "stdout",
     "output_type": "stream",
     "text": [
      "Enter time in hours: 12\n",
      "12  Hour is equal to 43200  Seconds\n"
     ]
    }
   ],
   "source": [
    "def to_seconds(t):\n",
    "    t=t*3600\n",
    "    return t\n",
    "time_in_hours = int(input(\"Enter time in hours: \"))\n",
    "print(time_in_hours ,\" Hour is equal to\" ,to_seconds(time_in_hours) ,\" Seconds\")"
   ]
  },
  {
   "cell_type": "markdown",
   "metadata": {
    "id": "CnYorNiLlrTI"
   },
   "source": [
    "## 8. Write a program to print multiplication table as below"
   ]
  },
  {
   "cell_type": "code",
   "execution_count": 25,
   "metadata": {
    "id": "dPQqDPuDlrTI"
   },
   "outputs": [
    {
     "name": "stdout",
     "output_type": "stream",
     "text": [
      "Enter the Number for its Multiplication Table:12\n",
      "up to:12\n",
      "1 x 12 = 12\n",
      "2 x 12 = 24\n",
      "3 x 12 = 36\n",
      "4 x 12 = 48\n",
      "5 x 12 = 60\n",
      "6 x 12 = 72\n",
      "7 x 12 = 84\n",
      "8 x 12 = 96\n",
      "9 x 12 = 108\n",
      "10 x 12 = 120\n",
      "11 x 12 = 132\n",
      "12 x 12 = 144\n"
     ]
    }
   ],
   "source": [
    "num=int(input(\"Enter the Number for its Multiplication Table:\"))\n",
    "n = int(input(\"up to:\"))\n",
    "for i in range(1,n+1):\n",
    "    print(i, \"x\", num, \"=\", i*num)"
   ]
  },
  {
   "cell_type": "markdown",
   "metadata": {
    "id": "Fiaez8iblrTI"
   },
   "source": [
    "## 9. Write a program to take your 5 favorite food as list and print each as 'I like Biriyani'"
   ]
  },
  {
   "cell_type": "code",
   "execution_count": 23,
   "metadata": {
    "id": "39W1zFX7lrTJ"
   },
   "outputs": [
    {
     "name": "stdout",
     "output_type": "stream",
     "text": [
      "enter your 5 favourite foodsdosa,idly,puttu,upma,biriyani\n",
      "I like dosa\n",
      "I like idly\n",
      "I like puttu\n",
      "I like upma\n",
      "I like biriyani\n"
     ]
    }
   ],
   "source": [
    "favourite_foods = input(\"enter your 5 favourite foods\").split(',')\n",
    "for i in favourite_foods:\n",
    "    print(\"I like\",i)\n"
   ]
  },
  {
   "cell_type": "markdown",
   "metadata": {
    "id": "3vlcDNNEP7d_"
   },
   "source": [
    "## 10. Find error(s) in the following code(if any) and rewrite code.\n",
    "\n"
   ]
  },
  {
   "cell_type": "code",
   "execution_count": 21,
   "metadata": {
    "id": "coREkcY3P9sG"
   },
   "outputs": [
    {
     "name": "stdout",
     "output_type": "stream",
     "text": [
      "Enter value of x:12\n",
      "They are unequal\n",
      "They are unequal\n",
      "They are unequal\n",
      "They are unequal\n",
      "They are unequal\n",
      "They are unequal\n",
      "They are unequal\n",
      "They are unequal\n",
      "They are unequal\n",
      "They are unequal\n"
     ]
    }
   ],
   "source": [
    "x= int(input(\"Enter value of x:\"))\n",
    "for y in range(0,10):\n",
    "    if (x==y):\n",
    "        print(\"They are equal\")\n",
    "    else:\n",
    "        print( \"They are unequal\")"
   ]
  },
  {
   "cell_type": "code",
   "execution_count": null,
   "metadata": {},
   "outputs": [],
   "source": []
  },
  {
   "cell_type": "code",
   "execution_count": null,
   "metadata": {},
   "outputs": [],
   "source": []
  }
 ],
 "metadata": {
  "colab": {
   "collapsed_sections": [],
   "name": "Q&A activity student file.ipynb",
   "provenance": []
  },
  "kernelspec": {
   "display_name": "Python 3",
   "language": "python",
   "name": "python3"
  },
  "language_info": {
   "codemirror_mode": {
    "name": "ipython",
    "version": 3
   },
   "file_extension": ".py",
   "mimetype": "text/x-python",
   "name": "python",
   "nbconvert_exporter": "python",
   "pygments_lexer": "ipython3",
   "version": "3.8.8"
  }
 },
 "nbformat": 4,
 "nbformat_minor": 1
}
